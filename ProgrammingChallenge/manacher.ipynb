{
 "cells": [
  {
   "cell_type": "code",
   "execution_count": 36,
   "id": "ee08ca8e",
   "metadata": {},
   "outputs": [
    {
     "name": "stdout",
     "output_type": "stream",
     "text": [
      "TACCGTT\n",
      "TACCGTT\n",
      "CAG\n",
      "CAG\n"
     ]
    }
   ],
   "source": [
    "matching_pairs = {\n",
    "    'A': 'T',\n",
    "    'T': 'A',\n",
    "    'C': 'G',\n",
    "    'G': 'C',\n",
    "    '#': '#',\n",
    "}\n",
    "def preprocess(s):\n",
    "    n = len(s)\n",
    "    s = \"#\" + \"#\".join(s) + \"#\" \n",
    "    return s\n",
    "def postprocess(s):\n",
    "    n = len(s)\n",
    "    s = s.replace(\"#\", \"\")\n",
    "    return s\n",
    "\n",
    "def matches(a, b):\n",
    "    if matching_pairs[a] == b:\n",
    "        return True\n",
    "    return False\n",
    "\n",
    "def brute_max_valid_helix(s: str) -> str:\n",
    "    comp = {'A':'T', 'T':'A', 'C':'G', 'G':'C'}\n",
    "    n = len(s)\n",
    "    best = \"\"\n",
    "    for i in range(n):\n",
    "        for j in range(i+1, n+1):\n",
    "            sub = s[i:j]\n",
    "            l, r = 0, len(sub) - 1\n",
    "            mismatches = 0\n",
    "            while l < r:\n",
    "                if comp.get(sub[l]) != sub[r]:\n",
    "                    mismatches += 1\n",
    "                    if mismatches > 1:\n",
    "                        break\n",
    "                l += 1\n",
    "                r -= 1\n",
    "            else:\n",
    "                if len(sub) > len(best):\n",
    "                    best = sub\n",
    "    return best\n",
    "def helix(s):\n",
    "    s = preprocess(s)\n",
    "    radius0 = [0] * len(s) # p0 stores the length of the longest palindromic substring with center at i\n",
    "    radius1 = [0] * len(s) # p1 stores the length of the longest palindromic substring with one mistake with center at i+1\n",
    "    mismatches = [-1] * len(s) # stores the index of the first mismatch in the longest palindromic substring with one mistake with center at i+1\n",
    "    center0, center1 = 0, 0\n",
    "    right0, right1 = 0, 0\n",
    "\n",
    "    for i in range(1, len(s) - 1):\n",
    "        mirrored_pos = 2 * center0 - i\n",
    "        #first do 0 mismatches...\n",
    "        if i < right0:\n",
    "            radius0[i] = min(right0 - i, radius0[mirrored_pos])\n",
    "\n",
    "        while i + radius0[i] + 1 < len(s) and i - (radius0[i] + 1) >= 0 and matches(s[i + radius0[i] + 1], s[i - (radius0[i] + 1)]):\n",
    "            radius0[i] += 1\n",
    "        #then do 1 mismatch...\n",
    "        mirrored_pos1 = 2 * center1 - i\n",
    "\n",
    "        if i < right1:\n",
    "            radius1[i] = min(right1 - i, radius1[mirrored_pos1])\n",
    "        #check if a mismatch is already used..\n",
    "        radius1[i] = max(radius1[i], radius0[i])\n",
    "            \n",
    "        if radius1[i] == radius0[i]:\n",
    "            #this means a mismatch hasn't been used yet; we can use the first mismatch in the longest palindromic substring with one mistake with center at i+1\n",
    "            while i + radius1[i] + 1 < len(s) and i - (radius1[i] + 1) >= 0:\n",
    "                radius1[i] += 1\n",
    "                if matches(s[i + radius1[i]], s[i - (radius1[i])]) == False:\n",
    "                    mismatches[i] = i + radius1[i] + 1\n",
    "                    break\n",
    "                \n",
    "        #mismatch should be used at athis point if there was one; \n",
    "        while i + radius1[i] + 1 < len(s) and i - (radius1[i] + 1) >= 0 and matches(s[i + radius1[i] + 1], s[i - (radius1[i] + 1)]):\n",
    "            radius1[i] += 1\n",
    "        if i + radius1[i] > right1:\n",
    "            center1 = i\n",
    "            right1 = i + radius1[i]\n",
    "    radius = 0\n",
    "    largestCenter = 0\n",
    "    for i in range(0, len(s)):\n",
    "        if radius1[i] > radius:\n",
    "            radius = radius1[i]\n",
    "            largestCenter = i\n",
    "    return postprocess(s[largestCenter - radius:largestCenter + radius + 1])\n",
    "\n",
    "input = \"GTACCGTT\"\n",
    "output = helix(input)\n",
    "output2 = brute_max_valid_helix(input)\n",
    "print(output) # should print \"GTACCGTACCGT\" or \"GTACCGTACCGT\" depending on the input\n",
    "print(output2) # should print \"GTACCGTACCGT\" or \"GTACCGTACCGT\" depending on the input\n",
    "input = \"CAGC\"\n",
    "output = helix(input)\n",
    "output2 = brute_max_valid_helix(input)\n",
    "print(output) # should print \"CAGC\" or \"CAGC\" depending on the input\n",
    "print(output2) # should print \"CAGC\" or \"CAGC\" depending on the input"
   ]
  },
  {
   "cell_type": "code",
   "execution_count": null,
   "id": "e06c7912",
   "metadata": {},
   "outputs": [
    {
     "name": "stdout",
     "output_type": "stream",
     "text": [
      "['', 'A', 'AT', 'AG', 'AAA', 'CAG', 'TACCGTT', 'ACGT', 'ACGT', 'ATATAT', 'GCGCGC', 'AGA']\n",
      "['', 'A', 'AT', 'AG', 'AAA', 'CAG', 'TACCGTT', 'ACGT', 'ACGT', 'ATATAT', 'GCGCGC', 'AGA']\n"
     ]
    }
   ],
   "source": [
    "test_cases = [\n",
    "    (\"\"),\n",
    "    (\"A\"),\n",
    "    (\"AT\"),\n",
    "    (\"AG\"),\n",
    "    (\"AAA\"),\n",
    "    (\"CAGC\"),\n",
    "    (\"GTACCGTT\"),\n",
    "    (\"ACGT\"),\n",
    "    (\"ACGTAC\"),\n",
    "    (\"ATATAT\"),\n",
    "]\n",
    "res = []\n",
    "expected_vals = []\n",
    "for s in test_cases:\n",
    "    result = helix(s)\n",
    "    expected = brute_max_valid_helix(s)\n",
    "    assert result == expected, f\"Expected {expected}, but got {result}\"\n",
    "    res.append(result)\n",
    "    expected_vals.append(expected)\n",
    "print(expected_vals)\n",
    "print(res)\n"
   ]
  },
  {
   "cell_type": "code",
   "execution_count": 8,
   "id": "ebfe88a0",
   "metadata": {},
   "outputs": [
    {
     "name": "stdout",
     "output_type": "stream",
     "text": [
      "./helix  < testcases/test.in.0 > cppsol/cpptest.out.0\n",
      "./helix  < testcases/test.in.1 > cppsol/cpptest.out.1\n",
      "./helix  < testcases/test.in.2 > cppsol/cpptest.out.2\n",
      "./helix  < testcases/test.in.3 > cppsol/cpptest.out.3\n",
      "./helix  < testcases/test.in.4 > cppsol/cpptest.out.4\n",
      "./helix  < testcases/test.in.5 > cppsol/cpptest.out.5\n",
      "./helix  < testcases/test.in.6 > cppsol/cpptest.out.6\n",
      "./helix  < testcases/test.in.7 > cppsol/cpptest.out.7\n",
      "./helix  < testcases/test.in.8 > cppsol/cpptest.out.8\n",
      "./helix  < testcases/test.in.9 > cppsol/cpptest.out.9\n",
      "./helix  < testcases/test.in.10 > cppsol/cpptest.out.10\n",
      "./helix  < testcases/test.in.11 > cppsol/cpptest.out.11\n",
      "./helix  < testcases/test.in.12 > cppsol/cpptest.out.12\n",
      "./helix  < testcases/test.in.13 > cppsol/cpptest.out.13\n",
      "./helix  < testcases/test.in.14 > cppsol/cpptest.out.14\n",
      "./helix  < testcases/test.in.15 > cppsol/cpptest.out.15\n",
      "./helix  < testcases/test.in.16 > cppsol/cpptest.out.16\n",
      "./helix  < testcases/test.in.17 > cppsol/cpptest.out.17\n",
      "./helix  < testcases/test.in.18 > cppsol/cpptest.out.18\n",
      "./helix  < testcases/test.in.19 > cppsol/cpptest.out.19\n",
      "./helix  < testcases/test.in.20 > cppsol/cpptest.out.20\n",
      "./helix  < testcases/test.in.21 > cppsol/cpptest.out.21\n"
     ]
    }
   ],
   "source": [
    "\n",
    "for i in range(0, 22):\n",
    "    # print(f\"pypy3 helixsolution.py < testcases/test.in.{i} > pysol/pythontest.out.{i}\")\n",
    "    # java HelixSolution\n",
    "    # print(f\"java HelixSolution < testcases/test.in.{i} > javasol/javatest.out.{i}\")\n",
    "    print(f\"./helix  < testcases/test.in.{i} > cppsol/cpptest.out.{i}\")"
   ]
  },
  {
   "cell_type": "code",
   "execution_count": 9,
   "id": "61923e75",
   "metadata": {},
   "outputs": [
    {
     "name": "stdout",
     "output_type": "stream",
     "text": [
      "diff -u testcases/test.out.0 cppsol/cpptest.out.0\n",
      "diff -u testcases/test.out.1 cppsol/cpptest.out.1\n",
      "diff -u testcases/test.out.2 cppsol/cpptest.out.2\n",
      "diff -u testcases/test.out.3 cppsol/cpptest.out.3\n",
      "diff -u testcases/test.out.4 cppsol/cpptest.out.4\n",
      "diff -u testcases/test.out.5 cppsol/cpptest.out.5\n",
      "diff -u testcases/test.out.6 cppsol/cpptest.out.6\n",
      "diff -u testcases/test.out.7 cppsol/cpptest.out.7\n",
      "diff -u testcases/test.out.8 cppsol/cpptest.out.8\n",
      "diff -u testcases/test.out.9 cppsol/cpptest.out.9\n",
      "diff -u testcases/test.out.10 cppsol/cpptest.out.10\n",
      "diff -u testcases/test.out.11 cppsol/cpptest.out.11\n",
      "diff -u testcases/test.out.12 cppsol/cpptest.out.12\n",
      "diff -u testcases/test.out.13 cppsol/cpptest.out.13\n",
      "diff -u testcases/test.out.14 cppsol/cpptest.out.14\n",
      "diff -u testcases/test.out.15 cppsol/cpptest.out.15\n",
      "diff -u testcases/test.out.16 cppsol/cpptest.out.16\n",
      "diff -u testcases/test.out.17 cppsol/cpptest.out.17\n",
      "diff -u testcases/test.out.18 cppsol/cpptest.out.18\n",
      "diff -u testcases/test.out.19 cppsol/cpptest.out.19\n",
      "diff -u testcases/test.out.20 cppsol/cpptest.out.20\n",
      "diff -u testcases/test.out.21 cppsol/cpptest.out.21\n"
     ]
    }
   ],
   "source": [
    "\n",
    "for i in range(0, 22):\n",
    "    # print(f\"diff -u testcases/test.out.{i} pysol/pythontest.out.{i}\")\n",
    "    # print(f\"diff -u testcases/test.out.{i} javasol/javatest.out.{i}\")\n",
    "    print(f\"diff -u testcases/test.out.{i} cppsol/cpptest.out.{i}\")"
   ]
  }
 ],
 "metadata": {
  "kernelspec": {
   "display_name": "base",
   "language": "python",
   "name": "python3"
  },
  "language_info": {
   "codemirror_mode": {
    "name": "ipython",
    "version": 3
   },
   "file_extension": ".py",
   "mimetype": "text/x-python",
   "name": "python",
   "nbconvert_exporter": "python",
   "pygments_lexer": "ipython3",
   "version": "3.11.5"
  }
 },
 "nbformat": 4,
 "nbformat_minor": 5
}
